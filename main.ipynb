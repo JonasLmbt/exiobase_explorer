{
 "cells": [
  {
   "cell_type": "code",
   "execution_count": null,
   "metadata": {},
   "outputs": [],
   "source": [
    "from src.IOSystem import IOSystem\n",
    "from src.SupplyChain import SupplyChain"
   ]
  },
  {
   "cell_type": "code",
   "execution_count": null,
   "metadata": {},
   "outputs": [],
   "source": [
    "database = IOSystem(year=2022, language=\"Deutsch\").load()"
   ]
  },
  {
   "cell_type": "code",
   "execution_count": null,
   "metadata": {},
   "outputs": [],
   "source": [
    "supplychain = SupplyChain(database=database, Region=\"Deutschland\", Sektor=\"Textilien\")\n",
    "supplychain"
   ]
  },
  {
   "cell_type": "code",
   "execution_count": null,
   "metadata": {},
   "outputs": [],
   "source": [
    "supplychain.plot_worldmap_by_impact(impact=\"Treibhausgasemissionen\")"
   ]
  },
  {
   "cell_type": "code",
   "execution_count": null,
   "metadata": {},
   "outputs": [],
   "source": [
    "supplychain.plot_worldmap_by_subcontractors(color=\"Blues\")"
   ]
  },
  {
   "cell_type": "code",
   "execution_count": null,
   "metadata": {},
   "outputs": [],
   "source": [
    "supplychain.plot_supplychain_diagram(impacts=[\"Treibhausgasemissionen\", \"Wasserverbrauch\", \"Landnutzung\", \"Wertschöpfung\", \"Arbeitszeit\"])"
   ]
  },
  {
   "cell_type": "code",
   "execution_count": null,
   "metadata": {},
   "outputs": [],
   "source": [
    "supplychain.calculate_all(impacts=[\"Treibhausgasemissionen\", \"Wasserverbrauch\", \"Landnutzung\", \"Wertschöpfung\", \"Arbeitszeit\"], relative=False, decimal_places=5)"
   ]
  }
 ],
 "metadata": {
  "kernelspec": {
   "display_name": "base",
   "language": "python",
   "name": "python3"
  },
  "language_info": {
   "codemirror_mode": {
    "name": "ipython",
    "version": 3
   },
   "file_extension": ".py",
   "mimetype": "text/x-python",
   "name": "python",
   "nbconvert_exporter": "python",
   "pygments_lexer": "ipython3",
   "version": "3.12.7"
  }
 },
 "nbformat": 4,
 "nbformat_minor": 2
}
