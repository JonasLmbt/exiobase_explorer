{
 "cells": [
  {
   "cell_type": "code",
   "execution_count": null,
   "id": "e7f4d203",
   "metadata": {},
   "outputs": [],
   "source": [
    "from src.IOSystem import IOSystem\n",
    "from src.SupplyChain import SupplyChain"
   ]
  },
  {
   "cell_type": "code",
   "execution_count": null,
   "id": "b874f63c",
   "metadata": {},
   "outputs": [],
   "source": [
    "iosystem = IOSystem(year=2022, language=\"Deutsch\").load()"
   ]
  },
  {
   "cell_type": "code",
   "execution_count": null,
   "id": "46b132da",
   "metadata": {},
   "outputs": [],
   "source": [
    "sc = SupplyChain(iosystem=iosystem, Kontinent = \"Europa\", Wirtschaftssektor = \"Sekundär\")"
   ]
  },
  {
   "cell_type": "code",
   "execution_count": null,
   "id": "b20df8cf",
   "metadata": {},
   "outputs": [],
   "source": [
    "sc.plot_worldmap_by_impact(\n",
    "    impact=\"Wasserverbrauch\",\n",
    "    color=\"viridis\",\n",
    "    show_legend=True,\n",
    "    relative=True,          \n",
    "    mode=\"continuous\",\n",
    "    norm_mode=\"linear\",\n",
    "    robust=2.0\n",
    ")"
   ]
  },
  {
   "cell_type": "code",
   "execution_count": null,
   "id": "e53b68f6",
   "metadata": {},
   "outputs": [],
   "source": [
    "sc.plot_worldmap_by_impact(\n",
    "    impact=\"Treibhausgasemissionen\",\n",
    "    color=\"inferno\",\n",
    "    show_legend=True,\n",
    "    mode=\"continuous\",\n",
    "    norm_mode=\"log\",\n",
    "    robust=1.0\n",
    ")"
   ]
  },
  {
   "cell_type": "code",
   "execution_count": null,
   "id": "3c84248f",
   "metadata": {},
   "outputs": [],
   "source": [
    "sc.plot_worldmap_by_impact(\n",
    "    impact=\"Landnutzung\",\n",
    "    color=\"Accent\",\n",
    "    show_legend=True,\n",
    "    relative=True,\n",
    "    mode=\"binned\",\n",
    "    custom_bins=[0.1, 0.5, 1, 2, 5, 10]\n",
    ")"
   ]
  },
  {
   "cell_type": "code",
   "execution_count": null,
   "id": "aa1acffb",
   "metadata": {},
   "outputs": [],
   "source": []
  }
 ],
 "metadata": {
  "kernelspec": {
   "display_name": "base",
   "language": "python",
   "name": "python3"
  },
  "language_info": {
   "codemirror_mode": {
    "name": "ipython",
    "version": 3
   },
   "file_extension": ".py",
   "mimetype": "text/x-python",
   "name": "python",
   "nbconvert_exporter": "python",
   "pygments_lexer": "ipython3",
   "version": "3.12.7"
  }
 },
 "nbformat": 4,
 "nbformat_minor": 5
}
