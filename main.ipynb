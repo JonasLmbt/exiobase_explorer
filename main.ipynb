{
 "cells": [
  {
   "cell_type": "code",
   "execution_count": 1,
   "metadata": {},
   "outputs": [],
   "source": [
    "from exiobase_explorer.IOSystem import IOSystem\n",
    "from exiobase_explorer.SupplyChain import SupplyChain"
   ]
  },
  {
   "cell_type": "code",
   "execution_count": 2,
   "metadata": {},
   "outputs": [
    {
     "name": "stderr",
     "output_type": "stream",
     "text": [
      "2025-03-30 13:35:23,137 - INFO - Creating fast database...\n",
      "\n"
     ]
    },
    {
     "ename": "FileNotFoundError",
     "evalue": "[Errno 2] No such file or directory: 'c:\\\\Python311\\\\Lib\\\\site-packages\\\\exiobase\\\\IOT_2022_pxp.zip'",
     "output_type": "error",
     "traceback": [
      "\u001b[31m---------------------------------------------------------------------------\u001b[39m",
      "\u001b[31mFileNotFoundError\u001b[39m                         Traceback (most recent call last)",
      "\u001b[36mCell\u001b[39m\u001b[36m \u001b[39m\u001b[32mIn[2]\u001b[39m\u001b[32m, line 1\u001b[39m\n\u001b[32m----> \u001b[39m\u001b[32m1\u001b[39m database = \u001b[43mIOSystem\u001b[49m\u001b[43m(\u001b[49m\u001b[43myear\u001b[49m\u001b[43m=\u001b[49m\u001b[32;43m2022\u001b[39;49m\u001b[43m,\u001b[49m\u001b[43m \u001b[49m\u001b[43mlanguage\u001b[49m\u001b[43m=\u001b[49m\u001b[33;43m\"\u001b[39;49m\u001b[33;43mgerman\u001b[39;49m\u001b[33;43m\"\u001b[39;49m\u001b[43m)\u001b[49m\u001b[43m.\u001b[49m\u001b[43mload\u001b[49m\u001b[43m(\u001b[49m\u001b[43m)\u001b[49m\n",
      "\u001b[36mFile \u001b[39m\u001b[32mc:\\Python311\\Lib\\site-packages\\exiobase_explorer\\IOSystem.py:756\u001b[39m, in \u001b[36mIOSystem.load\u001b[39m\u001b[34m(self, force, return_time, attempt)\u001b[39m\n\u001b[32m    753\u001b[39m \u001b[38;5;28;01melse\u001b[39;00m:\n\u001b[32m    754\u001b[39m     \u001b[38;5;66;03m# If the fast database doesn't exist or force is True, create it\u001b[39;00m\n\u001b[32m    755\u001b[39m     logging.info(\u001b[33m\"\u001b[39m\u001b[33mCreating fast database...\u001b[39m\u001b[38;5;130;01m\\n\u001b[39;00m\u001b[33m\"\u001b[39m)\n\u001b[32m--> \u001b[39m\u001b[32m756\u001b[39m     \u001b[38;5;28;43mself\u001b[39;49m\u001b[43m.\u001b[49m\u001b[43mcreate_fast_load_database\u001b[49m\u001b[43m(\u001b[49m\u001b[43mforce\u001b[49m\u001b[43m=\u001b[49m\u001b[43mforce\u001b[49m\u001b[43m)\u001b[49m  \u001b[38;5;66;03m# Create the fast load database\u001b[39;00m\n\u001b[32m    757\u001b[39m     \u001b[38;5;28mself\u001b[39m.calc_all()  \u001b[38;5;66;03m# Perform calculations on the database\u001b[39;00m\n\u001b[32m    758\u001b[39m     \u001b[38;5;28mself\u001b[39m.Index.add_excels()\n",
      "\u001b[36mFile \u001b[39m\u001b[32mc:\\Python311\\Lib\\site-packages\\exiobase_explorer\\IOSystem.py:827\u001b[39m, in \u001b[36mIOSystem.create_fast_load_database\u001b[39m\u001b[34m(self, force)\u001b[39m\n\u001b[32m    824\u001b[39m ignored_subfolders = [\u001b[33m\"\u001b[39m\u001b[33msatellite\u001b[39m\u001b[33m\"\u001b[39m]  \u001b[38;5;66;03m# Subfolders to ignore when extracting files\u001b[39;00m\n\u001b[32m    826\u001b[39m \u001b[38;5;66;03m# Retrieve the parameters from the Zip file\u001b[39;00m\n\u001b[32m--> \u001b[39m\u001b[32m827\u001b[39m header_lines_dict, indices_lines_dict = \u001b[38;5;28;43mself\u001b[39;49m\u001b[43m.\u001b[49m\u001b[43mextract_file_parameters\u001b[49m\u001b[43m(\u001b[49m\u001b[43m)\u001b[49m\n\u001b[32m    829\u001b[39m \u001b[38;5;66;03m# Check if self.compressed_db is a file and ends with \".zip\"\u001b[39;00m\n\u001b[32m    830\u001b[39m \u001b[38;5;28;01mif\u001b[39;00m os.path.isfile(\u001b[38;5;28mself\u001b[39m.compressed_db) \u001b[38;5;129;01mand\u001b[39;00m \u001b[38;5;28mself\u001b[39m.compressed_db.endswith(\u001b[33m\"\u001b[39m\u001b[33m.zip\u001b[39m\u001b[33m\"\u001b[39m):         \n",
      "\u001b[36mFile \u001b[39m\u001b[32mc:\\Python311\\Lib\\site-packages\\exiobase_explorer\\IOSystem.py:792\u001b[39m, in \u001b[36mIOSystem.extract_file_parameters\u001b[39m\u001b[34m(self, json_filename)\u001b[39m\n\u001b[32m    789\u001b[39m indices_lines_dict = {}  \u001b[38;5;66;03m# Dictionary to store index column line counts for each file\u001b[39;00m\n\u001b[32m    790\u001b[39m found_any = \u001b[38;5;28;01mFalse\u001b[39;00m  \u001b[38;5;66;03m# Flag to track whether the JSON file was found\u001b[39;00m\n\u001b[32m--> \u001b[39m\u001b[32m792\u001b[39m \u001b[38;5;28;01mwith\u001b[39;00m \u001b[43mzipfile\u001b[49m\u001b[43m.\u001b[49m\u001b[43mZipFile\u001b[49m\u001b[43m(\u001b[49m\u001b[38;5;28;43mself\u001b[39;49m\u001b[43m.\u001b[49m\u001b[43mcompressed_db\u001b[49m\u001b[43m,\u001b[49m\u001b[43m \u001b[49m\u001b[33;43m'\u001b[39;49m\u001b[33;43mr\u001b[39;49m\u001b[33;43m'\u001b[39;49m\u001b[43m)\u001b[49m \u001b[38;5;28;01mas\u001b[39;00m zip_ref:  \u001b[38;5;66;03m# Open the Zip archive\u001b[39;00m\n\u001b[32m    793\u001b[39m     \u001b[38;5;66;03m# Iterate through all files in the archive\u001b[39;00m\n\u001b[32m    794\u001b[39m     \u001b[38;5;28;01mfor\u001b[39;00m file_name \u001b[38;5;129;01min\u001b[39;00m zip_ref.namelist():\n\u001b[32m    795\u001b[39m         \u001b[38;5;28;01mif\u001b[39;00m os.path.basename(file_name) == json_filename:  \u001b[38;5;66;03m# Check if the file is the target JSON file\u001b[39;00m\n",
      "\u001b[36mFile \u001b[39m\u001b[32mc:\\Python311\\Lib\\zipfile.py:1284\u001b[39m, in \u001b[36mZipFile.__init__\u001b[39m\u001b[34m(self, file, mode, compression, allowZip64, compresslevel, strict_timestamps, metadata_encoding)\u001b[39m\n\u001b[32m   1282\u001b[39m \u001b[38;5;28;01mwhile\u001b[39;00m \u001b[38;5;28;01mTrue\u001b[39;00m:\n\u001b[32m   1283\u001b[39m     \u001b[38;5;28;01mtry\u001b[39;00m:\n\u001b[32m-> \u001b[39m\u001b[32m1284\u001b[39m         \u001b[38;5;28mself\u001b[39m.fp = \u001b[43mio\u001b[49m\u001b[43m.\u001b[49m\u001b[43mopen\u001b[49m\u001b[43m(\u001b[49m\u001b[43mfile\u001b[49m\u001b[43m,\u001b[49m\u001b[43m \u001b[49m\u001b[43mfilemode\u001b[49m\u001b[43m)\u001b[49m\n\u001b[32m   1285\u001b[39m     \u001b[38;5;28;01mexcept\u001b[39;00m \u001b[38;5;167;01mOSError\u001b[39;00m:\n\u001b[32m   1286\u001b[39m         \u001b[38;5;28;01mif\u001b[39;00m filemode \u001b[38;5;129;01min\u001b[39;00m modeDict:\n",
      "\u001b[31mFileNotFoundError\u001b[39m: [Errno 2] No such file or directory: 'c:\\\\Python311\\\\Lib\\\\site-packages\\\\exiobase\\\\IOT_2022_pxp.zip'"
     ]
    }
   ],
   "source": [
    "database = IOSystem(year=2022, language=\"german\").load()"
   ]
  },
  {
   "cell_type": "code",
   "execution_count": null,
   "metadata": {},
   "outputs": [],
   "source": [
    "supplychain = SupplyChain(database=database, select=True)"
   ]
  },
  {
   "cell_type": "code",
   "execution_count": null,
   "metadata": {},
   "outputs": [],
   "source": [
    "supplychain.plot_supply_chain(impacts=[\"Treibhausgasemissionen\", \"Wasserverbrauch\", \"Landnutzung\", \"Wertschöpfung\", \"Arbeitszeit\"])"
   ]
  },
  {
   "cell_type": "code",
   "execution_count": null,
   "metadata": {},
   "outputs": [],
   "source": [
    "supplychain.calculate_all(impacts=[\"Treibhausgasemissionen\", \"Wasserverbrauch\", \"Landnutzung\", \"Wertschöpfung\", \"Arbeitszeit\"], relative=False, decimal_places=5)"
   ]
  },
  {
   "cell_type": "code",
   "execution_count": null,
   "metadata": {},
   "outputs": [],
   "source": [
    "supplychain.plot_subcontractors(color=\"Greens\")"
   ]
  }
 ],
 "metadata": {
  "kernelspec": {
   "display_name": "Python 3",
   "language": "python",
   "name": "python3"
  },
  "language_info": {
   "codemirror_mode": {
    "name": "ipython",
    "version": 3
   },
   "file_extension": ".py",
   "mimetype": "text/x-python",
   "name": "python",
   "nbconvert_exporter": "python",
   "pygments_lexer": "ipython3",
   "version": "3.11.4"
  }
 },
 "nbformat": 4,
 "nbformat_minor": 2
}
